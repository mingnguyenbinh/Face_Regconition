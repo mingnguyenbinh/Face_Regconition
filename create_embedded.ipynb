{
 "cells": [
  {
   "cell_type": "code",
   "execution_count": 1,
   "metadata": {},
   "outputs": [],
   "source": [
    "import numpy as np\n",
    "import matplotlib.pyplot as plt"
   ]
  },
  {
   "cell_type": "code",
   "execution_count": 2,
   "metadata": {},
   "outputs": [],
   "source": [
    "data=np.load('data.npy')\n",
    "label=np.load('label.npy')"
   ]
  },
  {
   "cell_type": "code",
   "execution_count": 3,
   "metadata": {},
   "outputs": [],
   "source": [
    "# plt.imshow(data[90]/255)\n",
    "# plt.show()\n",
    "# print(label[90])"
   ]
  },
  {
   "cell_type": "code",
   "execution_count": 4,
   "metadata": {},
   "outputs": [],
   "source": [
    "# import cv2\n",
    "# img=data[90]/255.0\n",
    "# cv2.imshow('image',img)\n",
    "# cv2.waitKey(0)\n",
    "# cv2.destroyAllWindows()"
   ]
  },
  {
   "cell_type": "code",
   "execution_count": 5,
   "metadata": {},
   "outputs": [
    {
     "name": "stderr",
     "output_type": "stream",
     "text": [
      "Using TensorFlow backend.\n"
     ]
    }
   ],
   "source": [
    "from keras.models import load_model"
   ]
  },
  {
   "cell_type": "code",
   "execution_count": 6,
   "metadata": {},
   "outputs": [
    {
     "name": "stderr",
     "output_type": "stream",
     "text": [
      "D:\\anaconda3\\envs\\tensorflow_env\\lib\\site-packages\\keras\\engine\\saving.py:341: UserWarning: No training configuration found in save file: the model was *not* compiled. Compile it manually.\n",
      "  warnings.warn('No training configuration found in save file: '\n"
     ]
    }
   ],
   "source": [
    "model=load_model('facenet_keras.h5')"
   ]
  },
  {
   "cell_type": "code",
   "execution_count": 7,
   "metadata": {},
   "outputs": [],
   "source": [
    "def get_face_embedded(model,data):\n",
    "    i=0\n",
    "    embedded_face=[]\n",
    "    while i<data.shape[0]:\n",
    "        image=data[i]\n",
    "        mean, std = image.mean(), image.std()\n",
    "        image = (image - mean) / std\n",
    "        sample = np.expand_dims(image, axis=0)\n",
    "        yhat = model.predict(sample)\n",
    "        embedded_face.append(yhat[0])\n",
    "        i+=1\n",
    "    return np.asarray(embedded_face)"
   ]
  },
  {
   "cell_type": "code",
   "execution_count": 8,
   "metadata": {},
   "outputs": [],
   "source": [
    "X=get_face_embedded(model,data)"
   ]
  },
  {
   "cell_type": "code",
   "execution_count": 9,
   "metadata": {},
   "outputs": [
    {
     "data": {
      "text/plain": [
       "(255, 128)"
      ]
     },
     "execution_count": 9,
     "metadata": {},
     "output_type": "execute_result"
    }
   ],
   "source": [
    "X.shape"
   ]
  },
  {
   "cell_type": "code",
   "execution_count": 10,
   "metadata": {},
   "outputs": [],
   "source": [
    "np.save('data_embedded.npy',X)"
   ]
  },
  {
   "cell_type": "code",
   "execution_count": 11,
   "metadata": {},
   "outputs": [
    {
     "data": {
      "text/plain": [
       "(128,)"
      ]
     },
     "execution_count": 11,
     "metadata": {},
     "output_type": "execute_result"
    }
   ],
   "source": [
    "X[0].shape"
   ]
  },
  {
   "cell_type": "code",
   "execution_count": 12,
   "metadata": {},
   "outputs": [
    {
     "data": {
      "text/plain": [
       "array(['Alex Lacazette', 'Alex Lacazette', 'Alex Lacazette',\n",
       "       'Alex Lacazette', 'Alex Lacazette', 'Alex Lacazette',\n",
       "       'Alex Lacazette', 'Alex Lacazette', 'Alex Lacazette', 'Aubameyang',\n",
       "       'Aubameyang', 'Aubameyang', 'Aubameyang', 'Aubameyang',\n",
       "       'Aubameyang', 'Aubameyang', 'Aubameyang', 'Aubameyang',\n",
       "       'Aubameyang', 'Bellerin', 'Bellerin', 'Bellerin', 'Bellerin',\n",
       "       'Bellerin', 'Bellerin', 'Bellerin', 'Bellerin', 'Bellerin',\n",
       "       'Bellerin', 'Leno', 'Leno', 'Leno', 'Leno', 'Leno', 'Leno', 'Leno',\n",
       "       'Leno', 'Leno', 'Leno', 'Luiz', 'Luiz', 'Luiz', 'Luiz', 'Luiz',\n",
       "       'Luiz', 'Luiz', 'Luiz', 'Luiz', 'Mesut Ozil', 'Mesut Ozil',\n",
       "       'Mesut Ozil', 'Mesut Ozil', 'Mesut Ozil', 'Mesut Ozil',\n",
       "       'Mesut Ozil', 'Mesut Ozil', 'Mesut Ozil', 'Mesut Ozil', 'Minh',\n",
       "       'Minh', 'Minh', 'Minh', 'Minh', 'Minh', 'Minh', 'Minh', 'Minh',\n",
       "       'Minh', 'Minh', 'Minh', 'Minh', 'Minh', 'Minh', 'Minh', 'Minh',\n",
       "       'Minh', 'Minh', 'Minh', 'Minh', 'Minh', 'Minh', 'Minh', 'Minh',\n",
       "       'Minh', 'Minh', 'Minh', 'Minh', 'Minh', 'Minh', 'Minh', 'Minh',\n",
       "       'Minh', 'Minh', 'Minh', 'Minh', 'Minh', 'Minh', 'Minh', 'Minh',\n",
       "       'Minh', 'Minh', 'Minh', 'Minh', 'Minh', 'Minh', 'Minh', 'Minh',\n",
       "       'Minh', 'Minh', 'Minh', 'Minh', 'Minh', 'Minh', 'Minh', 'Minh',\n",
       "       'Minh', 'Minh', 'Pepe', 'Pepe', 'Pepe', 'Pepe', 'Pepe', 'Pepe',\n",
       "       'Sokratis', 'Sokratis', 'Sokratis', 'Sokratis', 'Sokratis',\n",
       "       'Sokratis', 'Sokratis', 'Sokratis', 'Sokratis', 'Sokratis',\n",
       "       'Tierney', 'Tierney', 'Tierney', 'Tierney', 'Tierney', 'Tierney',\n",
       "       'Tierney', 'Tierney', 'Tierney', 'Tierney', 'Torreira', 'Torreira',\n",
       "       'Torreira', 'Torreira', 'Torreira', 'Torreira', 'Torreira',\n",
       "       'Torreira', 'Torreira', 'Torreira', 'Unknown', 'Unknown',\n",
       "       'Unknown', 'Unknown', 'Unknown', 'Unknown', 'Unknown', 'Unknown',\n",
       "       'Unknown', 'Unknown', 'Unknown', 'Unknown', 'Unknown', 'Unknown',\n",
       "       'Unknown', 'Unknown', 'Unknown', 'Unknown', 'Unknown', 'Unknown',\n",
       "       'Unknown', 'Unknown', 'Unknown', 'Unknown', 'Unknown', 'Unknown',\n",
       "       'Unknown', 'Unknown', 'Unknown', 'Unknown', 'Unknown', 'Unknown',\n",
       "       'Unknown', 'Unknown', 'Unknown', 'Unknown', 'Unknown', 'Unknown',\n",
       "       'Unknown', 'Unknown', 'Unknown', 'Unknown', 'Unknown', 'Unknown',\n",
       "       'Unknown', 'Unknown', 'Unknown', 'Unknown', 'Unknown', 'Unknown',\n",
       "       'Unknown', 'Unknown', 'Unknown', 'Unknown', 'Unknown', 'Unknown',\n",
       "       'Unknown', 'Unknown', 'Unknown', 'Unknown', 'Unknown', 'Unknown',\n",
       "       'Unknown', 'Unknown', 'Unknown', 'Unknown', 'Unknown', 'Unknown',\n",
       "       'Unknown', 'Unknown', 'Unknown', 'Unknown', 'Unknown', 'Unknown',\n",
       "       'Unknown', 'Unknown', 'Unknown', 'Unknown', 'Unknown', 'Unknown',\n",
       "       'Unknown', 'Unknown', 'Unknown', 'Unknown', 'Unknown', 'Unknown',\n",
       "       'Unknown', 'Unknown', 'Unknown', 'Unknown', 'Unknown', 'Unknown',\n",
       "       'Xhaka', 'Xhaka', 'Xhaka', 'Xhaka', 'Xhaka', 'Xhaka', 'Xhaka',\n",
       "       'Xhaka', 'Xhaka', 'Xhaka'], dtype='<U14')"
      ]
     },
     "execution_count": 12,
     "metadata": {},
     "output_type": "execute_result"
    }
   ],
   "source": [
    "label"
   ]
  },
  {
   "cell_type": "code",
   "execution_count": null,
   "metadata": {},
   "outputs": [],
   "source": []
  }
 ],
 "metadata": {
  "kernelspec": {
   "display_name": "Python 3",
   "language": "python",
   "name": "python3"
  },
  "language_info": {
   "codemirror_mode": {
    "name": "ipython",
    "version": 3
   },
   "file_extension": ".py",
   "mimetype": "text/x-python",
   "name": "python",
   "nbconvert_exporter": "python",
   "pygments_lexer": "ipython3",
   "version": "3.7.7"
  }
 },
 "nbformat": 4,
 "nbformat_minor": 4
}
